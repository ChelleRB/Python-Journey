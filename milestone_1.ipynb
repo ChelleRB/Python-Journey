{
  "cells": [
    {
      "cell_type": "markdown",
      "metadata": {
        "id": "view-in-github",
        "colab_type": "text"
      },
      "source": [
        "<a href=\"https://colab.research.google.com/github/ChelleRB/Python-Journey/blob/main/milestone_1.ipynb\" target=\"_parent\"><img src=\"https://colab.research.google.com/assets/colab-badge.svg\" alt=\"Open In Colab\"/></a>"
      ]
    },
    {
      "cell_type": "markdown",
      "metadata": {
        "id": "i_xLFYD8a_h3"
      },
      "source": [
        "# Movie Recommendation - Milestone 1\n",
        "\n",
        "### Instructions:\n",
        "\n",
        "> To complete this project, you need to follow the instructions you see on the AiCore portal.\n",
        ">\n",
        ">  This notebook allows you to write your code and run it, and once you have your solution ready, you can submit it using the form at each step.\n",
        ">\n",
        ">  For example, for the first task, you need to check how many movies are in the list of movies. You can do this by writing your code in the cell that says `Task 1` and then running the cell. You can run the cell by clicking the play button on the left of the cell, or by pressing `Shift + Enter`.\n",
        ">\n",
        ">  Once you have a solution, the next cell will contain a form that you can use to submit your solution. You can submit your solution by clicking on the play button on the left of the cell, and then entering your solution in the form that appears. You can submit your solution as many times as you want, and the last submission will be considered as your final solution."
      ]
    },
    {
      "cell_type": "code",
      "execution_count": 3,
      "metadata": {
        "colab": {
          "base_uri": "https://localhost:8080/"
        },
        "id": "RLn-_E7Ba3Q4",
        "outputId": "ac8a3a4b-ce31-41d4-e0ed-9384b37c1c64"
      },
      "outputs": [
        {
          "output_type": "stream",
          "name": "stdout",
          "text": [
            "  Preparing metadata (setup.py) ... \u001b[?25l\u001b[?25hdone\n",
            "  Preparing metadata (setup.py) ... \u001b[?25l\u001b[?25hdone\n",
            "  Building wheel for movie-rec-marking-aicore (setup.py) ... \u001b[?25l\u001b[?25hdone\n",
            "  Building wheel for timeout-decorator (setup.py) ... \u001b[?25l\u001b[?25hdone\n"
          ]
        }
      ],
      "source": [
        "#@title # Run this cell before you start coding { display-mode: \"form\" }\n",
        "#@markdown Don’t worry about what’s in this collapsed cell, you’re not expected to understand the code inside\n",
        "!pip install movie-rec-marking-aicore --upgrade --quiet\n",
        "!wget https://aicore-files.s3.amazonaws.com/Movie-Recommendation/movies-head.json --quiet\n",
        "import json\n",
        "from movie_rec_marking import test_milestone_1\n",
        "\n",
        "# Load the movies\n",
        "with open('movies-head.json', 'r') as f:\n",
        "    movies = json.load(f)"
      ]
    },
    {
      "cell_type": "markdown",
      "metadata": {
        "id": "MYQw48Lqa3Q4"
      },
      "source": [
        "# Task 1\n",
        "\n",
        "### Count the number of movies in the list.\n",
        "\n",
        "The movies are stored in a variable called `movies`. This variable contains a list. Count the length of that list to get the number of movies"
      ]
    },
    {
      "cell_type": "code",
      "execution_count": null,
      "metadata": {
        "id": "1UpT9BAym0iW",
        "outputId": "0923696b-51d5-4c54-b4c9-80ebed41ffb5",
        "colab": {
          "base_uri": "https://localhost:8080/"
        }
      },
      "outputs": [
        {
          "output_type": "stream",
          "name": "stdout",
          "text": [
            "5\n"
          ]
        }
      ],
      "source": [
        "## You can use this cell for any computation you want\n",
        "print(len(movies))"
      ]
    },
    {
      "cell_type": "code",
      "execution_count": 14,
      "metadata": {
        "colab": {
          "base_uri": "https://localhost:8080/"
        },
        "id": "aDmHRI9ca3Q4",
        "outputId": "858ba348-126d-4592-8d0f-441029d84a31"
      },
      "outputs": [
        {
          "output_type": "stream",
          "name": "stdout",
          "text": [
            "Great! The length of the movie list is correct - 5\n",
            "You can continue to the next task\n"
          ]
        }
      ],
      "source": [
        "#@title Enter your solution here { display-mode: \"form\", run: \"auto\" }\n",
        "number_movies = 5 #@param {type:\"number\"}\n",
        "task_1 = test_milestone_1.check_length(number_movies)\n"
      ]
    },
    {
      "cell_type": "markdown",
      "metadata": {
        "id": "VeZOD7P9ukQ8"
      },
      "source": [
        "# Task 2\n",
        "\n",
        "### Select the first movie.\n",
        "\n",
        "Index the list to select the first movie in the list. Print it out. What data type is the movie returned? Explore what it contains.\n"
      ]
    },
    {
      "cell_type": "code",
      "execution_count": 13,
      "metadata": {
        "id": "dWkALibjukQ8",
        "outputId": "b5ef39ae-6a36-486d-c707-50f777ea8ade",
        "colab": {
          "base_uri": "https://localhost:8080/"
        }
      },
      "outputs": [
        {
          "output_type": "stream",
          "name": "stdout",
          "text": [
            "{'title': 'The Shawshank Redemption', 'description': 'Two imprisoned men bond over a number of years, finding solace and eventual redemption through acts of common decency.', 'genre': 'Drama', 'image_url': 'https://m.media-amazon.com/images/M/MV5BMDFkYTc0MGEtZmNhMC00ZDIzLWFmNTEtODM1ZmRlYWMwMWFmXkEyXkFqcGdeQXVyMTMxODk2OTU@._V1_UY67_CR0,0,45,67_AL_.jpg', 'link': 'https://imdb.com/title/tt0111161/?pf_rd_m=A2FGELUUNOQJNL&pf_rd_p=1a264172-ae11-42e4-8ef7-7fed1973bb8f&pf_rd_r=VZEYAR8ZVPNKZ9V7MV87&pf_rd_s=center-1&pf_rd_t=15506&pf_rd_i=top&ref_=chttp_tt_1'}\n",
            "<class 'dict'>\n"
          ]
        }
      ],
      "source": [
        "## You can use this cell for any computation you want\n",
        "movies[0]\n",
        "print(movies[0])\n",
        "print(type(movies[0]))"
      ]
    },
    {
      "cell_type": "code",
      "execution_count": 15,
      "metadata": {
        "id": "MU-34Ei2ukQ8",
        "outputId": "41a1b447-31b0-46aa-90e4-81156f48f482",
        "colab": {
          "base_uri": "https://localhost:8080/"
        }
      },
      "outputs": [
        {
          "output_type": "stream",
          "name": "stdout",
          "text": [
            "Great! The first movie in the list is correct - The Shawshank Redemption\n",
            "You can continue to the next task\n"
          ]
        }
      ],
      "source": [
        "#@title Enter your solution here { display-mode: \"form\", run: \"auto\" }\n",
        "\n",
        "first_movie = \"The Shawshank Redemption\" #@param [\"The Shawshank Redemption\", \"The Godfather\", \"The Dark Knight\", \"The Iron Giant\"] {allow-input: true}\n",
        "data_type = \"dict\" #@param [\"string\", \"int\", \"float\", \"list\", \"dict\"] {allow-input: true}\n",
        "task_2 = test_milestone_1.check_first_movie(first_movie, data_type, task_1)"
      ]
    },
    {
      "cell_type": "markdown",
      "metadata": {
        "id": "hHFS9lWZukQ8"
      },
      "source": [
        "# Task 3\n",
        "\n",
        "### Explore that movie\n",
        "\n",
        "Index the dictionary to select the `link` key and print its value. Where does this link take you?"
      ]
    },
    {
      "cell_type": "code",
      "execution_count": 21,
      "metadata": {
        "id": "B-WkzmDFukQ9",
        "outputId": "7e540288-35f0-46dc-d6fe-3d85ec0c1f05",
        "colab": {
          "base_uri": "https://localhost:8080/"
        }
      },
      "outputs": [
        {
          "output_type": "stream",
          "name": "stdout",
          "text": [
            "The Dark Knight\n"
          ]
        }
      ],
      "source": [
        "## You can use this cell for any computation you want\n",
        "print(movies[2][\"title\"])"
      ]
    },
    {
      "cell_type": "code",
      "execution_count": 16,
      "metadata": {
        "id": "jSMMhf8zukQ9",
        "outputId": "7fa78e0e-c894-4ef2-d477-d7ebfa8eaf27",
        "colab": {
          "base_uri": "https://localhost:8080/"
        }
      },
      "outputs": [
        {
          "output_type": "stream",
          "name": "stdout",
          "text": [
            "Great! The last 10 characters in the url are correct - chtt_tt_1\n",
            "Great! You have completed the first milestone of the project\n"
          ]
        }
      ],
      "source": [
        "#@title What are the last 10 characters of the link? { display-mode: \"form\", run: \"auto\" }\n",
        "\n",
        "first_movie = \"chttp_tt_1\" #@param [\"chttp_tt_1\", \"chttp_tt_2\", \"https://im\", \"ttp_tt_250\"] {allow-input: true}\n",
        "task_3 = test_milestone_1.check_last_characters(first_movie, task_2)"
      ]
    }
  ],
  "metadata": {
    "colab": {
      "provenance": [],
      "include_colab_link": true
    },
    "kernelspec": {
      "display_name": "base",
      "language": "python",
      "name": "python3"
    },
    "language_info": {
      "codemirror_mode": {
        "name": "ipython",
        "version": 3
      },
      "file_extension": ".py",
      "mimetype": "text/x-python",
      "name": "python",
      "nbconvert_exporter": "python",
      "pygments_lexer": "ipython3",
      "version": "3.9.12 (main, Apr  5 2022, 06:56:58) \n[GCC 7.5.0]"
    },
    "orig_nbformat": 4,
    "vscode": {
      "interpreter": {
        "hash": "a2592652612463181e69ac003232387e3e9a99279aa6b168e76f5df16d5110f4"
      }
    }
  },
  "nbformat": 4,
  "nbformat_minor": 0
}